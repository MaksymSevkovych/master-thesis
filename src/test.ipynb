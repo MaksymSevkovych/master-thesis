{
 "cells": [
  {
   "cell_type": "code",
   "execution_count": 29,
   "metadata": {},
   "outputs": [
    {
     "name": "stderr",
     "output_type": "stream",
     "text": [
      "/Users/maksym/.pyenv/versions/3.11.1/lib/python3.11/site-packages/safetensors/torch.py:98: UserWarning: TypedStorage is deprecated. It will be removed in the future and UntypedStorage will be the only storage class. This should only matter to you if you are using storages directly.  To access UntypedStorage directly, use tensor.untyped_storage() instead of tensor.storage()\n",
      "  with safe_open(filename, framework=\"pt\", device=device) as f:\n",
      "/Users/maksym/.pyenv/versions/3.11.1/lib/python3.11/site-packages/torch/_utils.py:776: UserWarning: TypedStorage is deprecated. It will be removed in the future and UntypedStorage will be the only storage class. This should only matter to you if you are using storages directly.  To access UntypedStorage directly, use tensor.untyped_storage() instead of tensor.storage()\n",
      "  return self.fget.__get__(instance, owner)()\n",
      "/Users/maksym/.pyenv/versions/3.11.1/lib/python3.11/site-packages/torch/storage.py:899: UserWarning: TypedStorage is deprecated. It will be removed in the future and UntypedStorage will be the only storage class. This should only matter to you if you are using storages directly.  To access UntypedStorage directly, use tensor.untyped_storage() instead of tensor.storage()\n",
      "  storage = cls(wrap_storage=untyped_storage)\n",
      "Fetching 16 files: 100%|██████████| 16/16 [00:00<00:00, 133152.51it/s]\n",
      "/Users/maksym/.pyenv/versions/3.11.1/lib/python3.11/site-packages/transformers/modeling_utils.py:402: UserWarning: TypedStorage is deprecated. It will be removed in the future and UntypedStorage will be the only storage class. This should only matter to you if you are using storages directly.  To access UntypedStorage directly, use tensor.untyped_storage() instead of tensor.storage()\n",
      "  with safe_open(checkpoint_file, framework=\"pt\") as f:\n"
     ]
    }
   ],
   "source": [
    "from diffusers.models import AutoencoderKL\n",
    "from diffusers import StableDiffusionPipeline\n",
    "\n",
    "model = \"CompVis/stable-diffusion-v1-4\"\n",
    "vae = AutoencoderKL.from_pretrained(\"stabilityai/sd-vae-ft-mse\")\n",
    "pipe = StableDiffusionPipeline.from_pretrained(model, vae=vae)\n"
   ]
  },
  {
   "cell_type": "code",
   "execution_count": 30,
   "metadata": {},
   "outputs": [],
   "source": [
    "import torchvision.datasets as datasets\n",
    "\n",
    "mnist_trainset = datasets.MNIST(\n",
    "        root=\"./data\", train=True, download=True, transform=None\n",
    "    )\n",
    "\n",
    "amount_of_images = 1\n",
    "images = [mnist_trainset[i][0] for i in range(amount_of_images)]\n",
    "labels = [mnist_trainset[i][1] for i in range(amount_of_images)]"
   ]
  },
  {
   "cell_type": "code",
   "execution_count": 37,
   "metadata": {},
   "outputs": [],
   "source": [
    "import torchvision.transforms as transforms\n",
    "\n",
    "transform = transforms.Compose([\n",
    "    transforms.PILToTensor()\n",
    "]) "
   ]
  },
  {
   "cell_type": "code",
   "execution_count": 33,
   "metadata": {},
   "outputs": [
    {
     "name": "stderr",
     "output_type": "stream",
     "text": [
      "100%|██████████| 50/50 [14:28<00:00, 17.37s/it]\n",
      "100%|██████████| 50/50 [14:30<00:00, 17.40s/it]\n",
      "100%|██████████| 50/50 [30:44<00:00, 36.88s/it] \n",
      "100%|██████████| 50/50 [14:53<00:00, 17.88s/it]\n",
      "100%|██████████| 50/50 [14:21<00:00, 17.23s/it]\n"
     ]
    }
   ],
   "source": [
    "tensors = [transform(image) for image in images]\n",
    "\n",
    "prompt = \"A beautiful fairytale forrest\"\n",
    "\n",
    "images = []\n",
    "for i in range(5):\n",
    "    image = pipe(prompt=prompt)\n",
    "    images.append(image)\n",
    "    "
   ]
  },
  {
   "cell_type": "code",
   "execution_count": 38,
   "metadata": {},
   "outputs": [],
   "source": [
    "\n",
    "for i in range(5):\n",
    "    images[i][0][0].save(f\"forrest_{i}.png\")\n"
   ]
  }
 ],
 "metadata": {
  "kernelspec": {
   "display_name": "Python 3",
   "language": "python",
   "name": "python3"
  },
  "language_info": {
   "codemirror_mode": {
    "name": "ipython",
    "version": 3
   },
   "file_extension": ".py",
   "mimetype": "text/x-python",
   "name": "python",
   "nbconvert_exporter": "python",
   "pygments_lexer": "ipython3",
   "version": "3.11.1"
  },
  "orig_nbformat": 4
 },
 "nbformat": 4,
 "nbformat_minor": 2
}
