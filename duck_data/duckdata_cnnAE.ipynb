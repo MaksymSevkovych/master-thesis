{
 "cells": [
  {
   "attachments": {},
   "cell_type": "markdown",
   "metadata": {},
   "source": [
    "The following code is based on [this tutorial](https://www.youtube.com/watch?v=zp8clK9yCro)."
   ]
  },
  {
   "cell_type": "code",
   "execution_count": 2,
   "metadata": {},
   "outputs": [],
   "source": [
    "# Import dependencies\n",
    "import torch\n",
    "import torch.nn as nn\n",
    "import torch.optim as optim\n",
    "from torch.utils.data import DataLoader\n",
    "from torchvision import datasets, transforms\n",
    "import matplotlib.pyplot as plt"
   ]
  },
  {
   "cell_type": "code",
   "execution_count": 3,
   "metadata": {},
   "outputs": [],
   "source": [
    "# Get data\n",
    "transform = transforms.ToTensor()\n",
    "\n",
    "mnist_data = datasets.MNIST(root=\"./data\", train=True, download=True, transform=transform)\n",
    "\n",
    "data_loader = DataLoader(mnist_data, batch_size=64, shuffle=True)"
   ]
  },
  {
   "cell_type": "code",
   "execution_count": 4,
   "metadata": {},
   "outputs": [
    {
     "name": "stderr",
     "output_type": "stream",
     "text": [
      "/Users/maksym/.pyenv/versions/3.11.1/lib/python3.11/site-packages/tqdm/auto.py:21: TqdmWarning: IProgress not found. Please update jupyter and ipywidgets. See https://ipywidgets.readthedocs.io/en/stable/user_install.html\n",
      "  from .autonotebook import tqdm as notebook_tqdm\n",
      "Resolving data files: 100%|██████████| 702/702 [00:00<00:00, 22857.60it/s]\n",
      "Resolving data files: 100%|██████████| 202/202 [00:00<00:00, 150863.50it/s]\n",
      "Resolving data files: 100%|██████████| 937/937 [00:00<00:00, 17826.24it/s]\n",
      "Found cached dataset imagefolder (/Users/maksym/.cache/huggingface/datasets/imagefolder/default-9e429bb76d21d33c/0.0.0/37fbb85cc714a338bea574ac6c7d0b5be5aff46c1862c1989b20e0771199e93f)\n",
      "100%|██████████| 3/3 [00:00<00:00, 75.69it/s]\n"
     ]
    }
   ],
   "source": [
    "# Get Duckeneers Data locally\n",
    "from datasets import load_dataset\n",
    "import os\n",
    "\n",
    "base_path = \"/Users/maksym/git/duckeneers/palettscan/setup/Data/datasets/card_detection/data\"\n",
    "dataset_dict = load_dataset(\n",
    "    \"imagefolder\",\n",
    "    data_files={\n",
    "        \"train\": os.path.join(base_path, \"train\", \"**\"),\n",
    "        \"test\": os.path.join(base_path, \"test\", \"**\"),\n",
    "        \"valid\": os.path.join(base_path, \"valid\", \"**\"),\n",
    "    },\n",
    ")"
   ]
  },
  {
   "cell_type": "code",
   "execution_count": 5,
   "metadata": {},
   "outputs": [
    {
     "name": "stderr",
     "output_type": "stream",
     "text": [
      "100%|██████████| 700/700 [01:01<00:00, 11.41it/s]\n",
      "100%|██████████| 700/700 [00:46<00:00, 15.12it/s]\n"
     ]
    }
   ],
   "source": [
    "from tqdm import tqdm \n",
    "from torchvision.transforms.functional import rgb_to_grayscale\n",
    "images = [rgb_to_grayscale(sample[\"image\"]) for sample in tqdm(dataset_dict[\"train\"])]\n",
    "\n",
    "tensors = [transform(image) for image in tqdm(images)]\n"
   ]
  },
  {
   "cell_type": "code",
   "execution_count": 6,
   "metadata": {},
   "outputs": [],
   "source": [
    "data_loader = DataLoader(tensors, batch_size=32, shuffle=False)"
   ]
  },
  {
   "cell_type": "code",
   "execution_count": 7,
   "metadata": {},
   "outputs": [
    {
     "name": "stdout",
     "output_type": "stream",
     "text": [
      "tensor([[[[0.0157, 0.0157, 0.0157,  ..., 0.0235, 0.0235, 0.0275],\n",
      "          [0.0157, 0.0157, 0.0118,  ..., 0.0275, 0.0235, 0.0235],\n",
      "          [0.0157, 0.0157, 0.0157,  ..., 0.0235, 0.0235, 0.0235],\n",
      "          ...,\n",
      "          [0.0314, 0.0353, 0.0353,  ..., 0.0706, 0.0745, 0.0667],\n",
      "          [0.0353, 0.0353, 0.0353,  ..., 0.0706, 0.0667, 0.0667],\n",
      "          [0.0353, 0.0353, 0.0353,  ..., 0.0667, 0.0627, 0.0706]]],\n",
      "\n",
      "\n",
      "        [[[0.0667, 0.0627, 0.0667,  ..., 0.0431, 0.0471, 0.0471],\n",
      "          [0.0627, 0.0627, 0.0667,  ..., 0.0471, 0.0431, 0.0471],\n",
      "          [0.0667, 0.0627, 0.0706,  ..., 0.0471, 0.0431, 0.0510],\n",
      "          ...,\n",
      "          [0.1098, 0.1216, 0.1137,  ..., 0.0667, 0.0667, 0.0706],\n",
      "          [0.1176, 0.1137, 0.1137,  ..., 0.0667, 0.0706, 0.0667],\n",
      "          [0.1137, 0.1059, 0.1137,  ..., 0.0706, 0.0706, 0.0667]]],\n",
      "\n",
      "\n",
      "        [[[0.0392, 0.0392, 0.0431,  ..., 0.0275, 0.0235, 0.0275],\n",
      "          [0.0392, 0.0471, 0.0471,  ..., 0.0275, 0.0235, 0.0235],\n",
      "          [0.0431, 0.0431, 0.0431,  ..., 0.0235, 0.0275, 0.0235],\n",
      "          ...,\n",
      "          [0.0431, 0.0431, 0.0431,  ..., 0.0314, 0.0314, 0.0275],\n",
      "          [0.0431, 0.0431, 0.0431,  ..., 0.0314, 0.0314, 0.0314],\n",
      "          [0.0431, 0.0431, 0.0431,  ..., 0.0275, 0.0314, 0.0275]]],\n",
      "\n",
      "\n",
      "        ...,\n",
      "\n",
      "\n",
      "        [[[0.2118, 0.2000, 0.2118,  ..., 0.4431, 0.4510, 0.4588],\n",
      "          [0.1961, 0.2039, 0.2078,  ..., 0.4392, 0.4471, 0.4549],\n",
      "          [0.2118, 0.2078, 0.2039,  ..., 0.4549, 0.4431, 0.4627],\n",
      "          ...,\n",
      "          [0.2118, 0.2118, 0.2196,  ..., 0.2431, 0.2392, 0.2471],\n",
      "          [0.2157, 0.2157, 0.2157,  ..., 0.2353, 0.2431, 0.2471],\n",
      "          [0.2235, 0.2196, 0.2196,  ..., 0.2471, 0.2431, 0.2471]]],\n",
      "\n",
      "\n",
      "        [[[0.0314, 0.0353, 0.0392,  ..., 0.0196, 0.0196, 0.0157],\n",
      "          [0.0353, 0.0353, 0.0353,  ..., 0.0196, 0.0157, 0.0196],\n",
      "          [0.0353, 0.0353, 0.0353,  ..., 0.0196, 0.0157, 0.0196],\n",
      "          ...,\n",
      "          [0.0314, 0.0353, 0.0353,  ..., 0.0275, 0.0314, 0.0275],\n",
      "          [0.0353, 0.0314, 0.0314,  ..., 0.0314, 0.0314, 0.0314],\n",
      "          [0.0314, 0.0314, 0.0353,  ..., 0.0275, 0.0275, 0.0275]]],\n",
      "\n",
      "\n",
      "        [[[0.0157, 0.0157, 0.0157,  ..., 0.0275, 0.0196, 0.0235],\n",
      "          [0.0196, 0.0157, 0.0157,  ..., 0.0235, 0.0235, 0.0196],\n",
      "          [0.0157, 0.0157, 0.0157,  ..., 0.0235, 0.0196, 0.0196],\n",
      "          ...,\n",
      "          [0.0314, 0.0314, 0.0314,  ..., 0.0588, 0.0588, 0.0549],\n",
      "          [0.0353, 0.0353, 0.0314,  ..., 0.0588, 0.0588, 0.0627],\n",
      "          [0.0275, 0.0314, 0.0314,  ..., 0.0588, 0.0588, 0.0588]]]])\n"
     ]
    }
   ],
   "source": [
    "iterator = iter(data_loader)\n",
    "print(next(iterator))"
   ]
  },
  {
   "cell_type": "code",
   "execution_count": 8,
   "metadata": {},
   "outputs": [],
   "source": [
    "# Define a linear AutoEncoder \n",
    "class LinearAutoEncoder(nn.Module):\n",
    "    def __init__(self) -> None:\n",
    "        super().__init__()\n",
    "        # N (batch size), 2064*3088\n",
    "        self.encoder = nn.Sequential(\n",
    "            nn.Linear(2064*3088, 20),\n",
    "            nn.ReLU()\n",
    "            # nn.Linear(2064*3088, 2**20), # N, 20264*3088 -> N, 2**20\n",
    "            # nn.ReLU(),\n",
    "            # nn.Linear(2**20, 2**14),\n",
    "            # nn.ReLU(),\n",
    "            # nn.Linear(2**14, 2**7),\n",
    "            # nn.ReLU(),\n",
    "            # nn.Linear(128, 20), # N, 20\n",
    "        )\n",
    "\n",
    "        self.decoder = nn.Sequential(\n",
    "            nn.Linear(20, 2064*3088),\n",
    "            # nn.Linear(20, 128), # N, 20\n",
    "            # nn.ReLU(),\n",
    "            # nn.Linear(2**7, 2**14),\n",
    "            # nn.ReLU(),\n",
    "            # nn.Linear(2**14, 2**20),\n",
    "            # nn.ReLU(),\n",
    "            # nn.Linear(2**20, 2064*3088), # N, 784\n",
    "            nn.Sigmoid() # IMPORTTANT! Depending on data we might need different activation here!\n",
    "        )\n",
    "# NOTE: Last activation: [0, 1] -> nn.ReLU(), [-1, 1] -> nn.Tanh\n",
    "\n",
    "    def forward(self, x):\n",
    "        encoded = self.encoder(x)\n",
    "        decoded = self.decoder(encoded)\n",
    "        return decoded\n",
    "    \n"
   ]
  },
  {
   "cell_type": "code",
   "execution_count": 4,
   "metadata": {},
   "outputs": [],
   "source": [
    "# Define a basic AutoEncoder \n",
    "class AutoEncoder(nn.Module):\n",
    "    def __init__(self) -> None:\n",
    "        super().__init__()\n",
    "        # N (batch size), 1 (channels), 2064 (height), 3088 (width)\n",
    "        self.encoder = nn.Sequential(\n",
    "            nn.Conv2d(1, 16, 3, stride=2, padding=1), # N, 1, 2064, 3088 -> N, 16, 14, 14\n",
    "            nn.ReLU(),\n",
    "            nn.Conv2d(16, 32, 3, stride=2, padding=1), # N, 16, 14, 14 -> N, 32, 7, 7\n",
    "            nn.ReLU(),\n",
    "            nn.Conv2d(32, 64, 7), # N, 32, 7, 7 -> N, 64, 1, 1\n",
    "            nn.ReLU(),\n",
    "        )\n",
    "\n",
    "        # decoder input size: N, 64, 1, 1\n",
    "        self.decoder = nn.Sequential(\n",
    "            nn.ConvTranspose2d(64, 32, 7), #  N, 64, 1, 1 -> N, 32, 7, 7 \n",
    "            nn.ReLU(),\n",
    "            # nn.ConvTranspose2d(32, 16, 3), #  N, 32, 7, 7 -> N, 16, 13, 13 THE DIMENSIONS WOULD NOT ADD UP!!\n",
    "            nn.ConvTranspose2d(32, 16, 3, stride=2, padding=1, output_padding=1), #  N, 32, 7, 7 -> N, 16, 14, 14 \n",
    "            nn.ReLU(),\n",
    "            nn.ConvTranspose2d(16, 1, 3, stride=2, padding=1, output_padding=1), #  N, 16, 14, 14 -> N, 1, 28, 28\n",
    "            nn.Sigmoid() # IMPORTTANT! Depending on data we might need different activation here!\n",
    "        )\n",
    "# NOTE: Last activation: [0, 1] -> nn.ReLU(), [-1, 1] -> nn.Tanh\n",
    "    \n",
    "    def forward(self, x):\n",
    "        encoded = self.encoder(x)\n",
    "        decoded = self.decoder(encoded)\n",
    "        return decoded\n",
    "    \n",
    "\n",
    "# NOTE: if you use nn.MaxPool2d() to reduce size, its inverse is nn.MaxUnpool2d()"
   ]
  },
  {
   "cell_type": "code",
   "execution_count": 9,
   "metadata": {},
   "outputs": [],
   "source": [
    "# Instantiate neural net and optimizer\n",
    "model = LinearAutoEncoder()\n",
    "criterion = nn.MSELoss()\n",
    "optimizer = optim.Adam(model.parameters(), lr=1e-3, weight_decay=1e-5)\n"
   ]
  },
  {
   "cell_type": "code",
   "execution_count": 11,
   "metadata": {},
   "outputs": [
    {
     "ename": "RuntimeError",
     "evalue": "mat1 and mat2 shapes cannot be multiplied (66048x3088 and 6373632x20)",
     "output_type": "error",
     "traceback": [
      "\u001b[0;31m---------------------------------------------------------------------------\u001b[0m",
      "\u001b[0;31mRuntimeError\u001b[0m                              Traceback (most recent call last)",
      "Cell \u001b[0;32mIn[11], line 6\u001b[0m\n\u001b[1;32m      4\u001b[0m \u001b[39mfor\u001b[39;00m epoch \u001b[39min\u001b[39;00m \u001b[39mrange\u001b[39m(num_epochs):\n\u001b[1;32m      5\u001b[0m     \u001b[39mfor\u001b[39;00m img \u001b[39min\u001b[39;00m data_loader:\n\u001b[0;32m----> 6\u001b[0m         recon \u001b[39m=\u001b[39m model(img)\n\u001b[1;32m      7\u001b[0m         loss \u001b[39m=\u001b[39m criterion(recon, img)\n\u001b[1;32m      9\u001b[0m         optimizer\u001b[39m.\u001b[39mzero_grad()\n",
      "File \u001b[0;32m~/.pyenv/versions/3.11.1/lib/python3.11/site-packages/torch/nn/modules/module.py:1501\u001b[0m, in \u001b[0;36mModule._call_impl\u001b[0;34m(self, *args, **kwargs)\u001b[0m\n\u001b[1;32m   1496\u001b[0m \u001b[39m# If we don't have any hooks, we want to skip the rest of the logic in\u001b[39;00m\n\u001b[1;32m   1497\u001b[0m \u001b[39m# this function, and just call forward.\u001b[39;00m\n\u001b[1;32m   1498\u001b[0m \u001b[39mif\u001b[39;00m \u001b[39mnot\u001b[39;00m (\u001b[39mself\u001b[39m\u001b[39m.\u001b[39m_backward_hooks \u001b[39mor\u001b[39;00m \u001b[39mself\u001b[39m\u001b[39m.\u001b[39m_backward_pre_hooks \u001b[39mor\u001b[39;00m \u001b[39mself\u001b[39m\u001b[39m.\u001b[39m_forward_hooks \u001b[39mor\u001b[39;00m \u001b[39mself\u001b[39m\u001b[39m.\u001b[39m_forward_pre_hooks\n\u001b[1;32m   1499\u001b[0m         \u001b[39mor\u001b[39;00m _global_backward_pre_hooks \u001b[39mor\u001b[39;00m _global_backward_hooks\n\u001b[1;32m   1500\u001b[0m         \u001b[39mor\u001b[39;00m _global_forward_hooks \u001b[39mor\u001b[39;00m _global_forward_pre_hooks):\n\u001b[0;32m-> 1501\u001b[0m     \u001b[39mreturn\u001b[39;00m forward_call(\u001b[39m*\u001b[39;49margs, \u001b[39m*\u001b[39;49m\u001b[39m*\u001b[39;49mkwargs)\n\u001b[1;32m   1502\u001b[0m \u001b[39m# Do not call functions when jit is used\u001b[39;00m\n\u001b[1;32m   1503\u001b[0m full_backward_hooks, non_full_backward_hooks \u001b[39m=\u001b[39m [], []\n",
      "Cell \u001b[0;32mIn[8], line 32\u001b[0m, in \u001b[0;36mLinearAutoEncoder.forward\u001b[0;34m(self, x)\u001b[0m\n\u001b[1;32m     31\u001b[0m \u001b[39mdef\u001b[39;00m \u001b[39mforward\u001b[39m(\u001b[39mself\u001b[39m, x):\n\u001b[0;32m---> 32\u001b[0m     encoded \u001b[39m=\u001b[39m \u001b[39mself\u001b[39;49m\u001b[39m.\u001b[39;49mencoder(x)\n\u001b[1;32m     33\u001b[0m     decoded \u001b[39m=\u001b[39m \u001b[39mself\u001b[39m\u001b[39m.\u001b[39mdecoder(encoded)\n\u001b[1;32m     34\u001b[0m     \u001b[39mreturn\u001b[39;00m decoded\n",
      "File \u001b[0;32m~/.pyenv/versions/3.11.1/lib/python3.11/site-packages/torch/nn/modules/module.py:1501\u001b[0m, in \u001b[0;36mModule._call_impl\u001b[0;34m(self, *args, **kwargs)\u001b[0m\n\u001b[1;32m   1496\u001b[0m \u001b[39m# If we don't have any hooks, we want to skip the rest of the logic in\u001b[39;00m\n\u001b[1;32m   1497\u001b[0m \u001b[39m# this function, and just call forward.\u001b[39;00m\n\u001b[1;32m   1498\u001b[0m \u001b[39mif\u001b[39;00m \u001b[39mnot\u001b[39;00m (\u001b[39mself\u001b[39m\u001b[39m.\u001b[39m_backward_hooks \u001b[39mor\u001b[39;00m \u001b[39mself\u001b[39m\u001b[39m.\u001b[39m_backward_pre_hooks \u001b[39mor\u001b[39;00m \u001b[39mself\u001b[39m\u001b[39m.\u001b[39m_forward_hooks \u001b[39mor\u001b[39;00m \u001b[39mself\u001b[39m\u001b[39m.\u001b[39m_forward_pre_hooks\n\u001b[1;32m   1499\u001b[0m         \u001b[39mor\u001b[39;00m _global_backward_pre_hooks \u001b[39mor\u001b[39;00m _global_backward_hooks\n\u001b[1;32m   1500\u001b[0m         \u001b[39mor\u001b[39;00m _global_forward_hooks \u001b[39mor\u001b[39;00m _global_forward_pre_hooks):\n\u001b[0;32m-> 1501\u001b[0m     \u001b[39mreturn\u001b[39;00m forward_call(\u001b[39m*\u001b[39;49margs, \u001b[39m*\u001b[39;49m\u001b[39m*\u001b[39;49mkwargs)\n\u001b[1;32m   1502\u001b[0m \u001b[39m# Do not call functions when jit is used\u001b[39;00m\n\u001b[1;32m   1503\u001b[0m full_backward_hooks, non_full_backward_hooks \u001b[39m=\u001b[39m [], []\n",
      "File \u001b[0;32m~/.pyenv/versions/3.11.1/lib/python3.11/site-packages/torch/nn/modules/container.py:217\u001b[0m, in \u001b[0;36mSequential.forward\u001b[0;34m(self, input)\u001b[0m\n\u001b[1;32m    215\u001b[0m \u001b[39mdef\u001b[39;00m \u001b[39mforward\u001b[39m(\u001b[39mself\u001b[39m, \u001b[39minput\u001b[39m):\n\u001b[1;32m    216\u001b[0m     \u001b[39mfor\u001b[39;00m module \u001b[39min\u001b[39;00m \u001b[39mself\u001b[39m:\n\u001b[0;32m--> 217\u001b[0m         \u001b[39minput\u001b[39m \u001b[39m=\u001b[39m module(\u001b[39minput\u001b[39;49m)\n\u001b[1;32m    218\u001b[0m     \u001b[39mreturn\u001b[39;00m \u001b[39minput\u001b[39m\n",
      "File \u001b[0;32m~/.pyenv/versions/3.11.1/lib/python3.11/site-packages/torch/nn/modules/module.py:1501\u001b[0m, in \u001b[0;36mModule._call_impl\u001b[0;34m(self, *args, **kwargs)\u001b[0m\n\u001b[1;32m   1496\u001b[0m \u001b[39m# If we don't have any hooks, we want to skip the rest of the logic in\u001b[39;00m\n\u001b[1;32m   1497\u001b[0m \u001b[39m# this function, and just call forward.\u001b[39;00m\n\u001b[1;32m   1498\u001b[0m \u001b[39mif\u001b[39;00m \u001b[39mnot\u001b[39;00m (\u001b[39mself\u001b[39m\u001b[39m.\u001b[39m_backward_hooks \u001b[39mor\u001b[39;00m \u001b[39mself\u001b[39m\u001b[39m.\u001b[39m_backward_pre_hooks \u001b[39mor\u001b[39;00m \u001b[39mself\u001b[39m\u001b[39m.\u001b[39m_forward_hooks \u001b[39mor\u001b[39;00m \u001b[39mself\u001b[39m\u001b[39m.\u001b[39m_forward_pre_hooks\n\u001b[1;32m   1499\u001b[0m         \u001b[39mor\u001b[39;00m _global_backward_pre_hooks \u001b[39mor\u001b[39;00m _global_backward_hooks\n\u001b[1;32m   1500\u001b[0m         \u001b[39mor\u001b[39;00m _global_forward_hooks \u001b[39mor\u001b[39;00m _global_forward_pre_hooks):\n\u001b[0;32m-> 1501\u001b[0m     \u001b[39mreturn\u001b[39;00m forward_call(\u001b[39m*\u001b[39;49margs, \u001b[39m*\u001b[39;49m\u001b[39m*\u001b[39;49mkwargs)\n\u001b[1;32m   1502\u001b[0m \u001b[39m# Do not call functions when jit is used\u001b[39;00m\n\u001b[1;32m   1503\u001b[0m full_backward_hooks, non_full_backward_hooks \u001b[39m=\u001b[39m [], []\n",
      "File \u001b[0;32m~/.pyenv/versions/3.11.1/lib/python3.11/site-packages/torch/nn/modules/linear.py:114\u001b[0m, in \u001b[0;36mLinear.forward\u001b[0;34m(self, input)\u001b[0m\n\u001b[1;32m    113\u001b[0m \u001b[39mdef\u001b[39;00m \u001b[39mforward\u001b[39m(\u001b[39mself\u001b[39m, \u001b[39minput\u001b[39m: Tensor) \u001b[39m-\u001b[39m\u001b[39m>\u001b[39m Tensor:\n\u001b[0;32m--> 114\u001b[0m     \u001b[39mreturn\u001b[39;00m F\u001b[39m.\u001b[39;49mlinear(\u001b[39minput\u001b[39;49m, \u001b[39mself\u001b[39;49m\u001b[39m.\u001b[39;49mweight, \u001b[39mself\u001b[39;49m\u001b[39m.\u001b[39;49mbias)\n",
      "\u001b[0;31mRuntimeError\u001b[0m: mat1 and mat2 shapes cannot be multiplied (66048x3088 and 6373632x20)"
     ]
    }
   ],
   "source": [
    "# Train the Autoencoder\n",
    "num_epochs = 10\n",
    "outputs = []\n",
    "for epoch in range(num_epochs):\n",
    "    for img in data_loader:\n",
    "        recon = model(img)\n",
    "        loss = criterion(recon, img)\n",
    "\n",
    "        optimizer.zero_grad()\n",
    "        loss.backward()\n",
    "        optimizer.step()\n",
    "\n",
    "    print(f\"Epoch:{epoch+1}, Loss:{loss.item():.4f}\")\n",
    "    outputs.append((epoch, img, recon))\n"
   ]
  },
  {
   "cell_type": "code",
   "execution_count": 1,
   "metadata": {},
   "outputs": [
    {
     "ename": "NameError",
     "evalue": "name 'num_epochs' is not defined",
     "output_type": "error",
     "traceback": [
      "\u001b[0;31m---------------------------------------------------------------------------\u001b[0m",
      "\u001b[0;31mNameError\u001b[0m                                 Traceback (most recent call last)",
      "Cell \u001b[0;32mIn[1], line 2\u001b[0m\n\u001b[1;32m      1\u001b[0m \u001b[39m# Plot the reconstructed images\u001b[39;00m\n\u001b[0;32m----> 2\u001b[0m \u001b[39mfor\u001b[39;00m k \u001b[39min\u001b[39;00m \u001b[39mrange\u001b[39m(\u001b[39m0\u001b[39m, num_epochs, \u001b[39m4\u001b[39m):\n\u001b[1;32m      3\u001b[0m     plt\u001b[39m.\u001b[39maxis(\u001b[39m'\u001b[39m\u001b[39moff\u001b[39m\u001b[39m'\u001b[39m)\n\u001b[1;32m      4\u001b[0m     plt\u001b[39m.\u001b[39mfigure(figsize\u001b[39m=\u001b[39m(\u001b[39m9\u001b[39m, \u001b[39m2\u001b[39m))\n",
      "\u001b[0;31mNameError\u001b[0m: name 'num_epochs' is not defined"
     ]
    }
   ],
   "source": [
    "# Plot the reconstructed images\n",
    "for k in range(0, num_epochs, 4):\n",
    "    plt.axis('off')\n",
    "    plt.figure(figsize=(9, 2))\n",
    "    plt.gray()\n",
    "    imgs = outputs[k][1].detach().numpy()\n",
    "    recon = outputs[k][2].detach().numpy()\n",
    "\n",
    "    for i, item in enumerate(imgs):\n",
    "        if i >= 9: break\n",
    "        plt.subplot(2, 9, i+1)\n",
    "        plt.imshow(item[0])\n",
    "\n",
    "    for i, item in enumerate(recon):\n",
    "        if i >= 9: break\n",
    "        plt.subplot(2, 9, 9+i+1)\n",
    "        plt.imshow(item[0])"
   ]
  }
 ],
 "metadata": {
  "kernelspec": {
   "display_name": "Python 3",
   "language": "python",
   "name": "python3"
  },
  "language_info": {
   "codemirror_mode": {
    "name": "ipython",
    "version": 3
   },
   "file_extension": ".py",
   "mimetype": "text/x-python",
   "name": "python",
   "nbconvert_exporter": "python",
   "pygments_lexer": "ipython3",
   "version": "3.11.1"
  },
  "orig_nbformat": 4
 },
 "nbformat": 4,
 "nbformat_minor": 2
}
